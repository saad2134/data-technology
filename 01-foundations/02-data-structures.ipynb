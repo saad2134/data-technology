{
 "cells": [
  {
   "cell_type": "markdown",
   "metadata": {},
   "source": [
    "# Python Data Structures for Data Analytics\n",
    "\n",
    "## Learning Objectives\n",
    "- Master Lists, Tuples, Dictionaries, and Sets\n",
    "- Understand when to use each data structure\n",
    "- Apply data structures to business scenarios\n",
    "- Learn common operations and methods\n",
    "\n",
    "## Data Sources\n",
    "- Synthetic business data for practical learning"
   ]
  },
  {
   "cell_type": "markdown",
   "metadata": {},
   "source": [
    "## 1. Lists - Ordered, Mutable Collections"
   ]
  },
  {
   "cell_type": "code",
   "execution_count": null,
   "metadata": {},
   "outputs": [],
   "source": [
    "# Business data in lists\n",
    "products = [\"Laptop\", \"Mouse\", \"Keyboard\", \"Monitor\", \"Headphones\"]\n",
    "prices = [999.99, 25.50, 75.00, 299.99, 149.99]\n",
    "monthly_sales = [45, 120, 85, 30, 90]\n",
    "\n",
    "print(\"Products:\", products)\n",
    "print(\"Prices:\", prices)\n",
    "print(\"Monthly Sales:\", monthly_sales)"
   ]
  },
  {
   "cell_type": "code",
   "execution_count": null,
   "metadata": {},
   "outputs": [],
   "source": [
    "# List operations for business analysis\n",
    "print(\"=== PRODUCT ANALYSIS ===\")\n",
    "print(\"First product:\", products[0])\n",
    "print(\"Last product:\", products[-1])\n",
    "print(\"Top 3 products:\", products[:3])\n",
    "print(\"Total products:\", len(products))\n",
    "\n",
    "# Adding new product\n",
    "products.append(\"Webcam\")\n",
    "prices.append(89.99)\n",
    "monthly_sales.append(65)\n",
    "\n",
    "print(\"\\nAfter adding Webcam:\")\n",
    "print(\"Products:\", products)\n",
    "print(\"Total products now:\", len(products))"
   ]
  },
  {
   "cell_type": "code",
   "execution_count": null,
   "metadata": {},
   "outputs": [],
   "source": [
    "# List comprehensions for quick calculations\n",
    "revenue_per_product = [prices[i] * monthly_sales[i] for i in range(len(products))]\n",
    "\n",
    "print(\"=== REVENUE ANALYSIS ===\")\n",
    "for i, product in enumerate(products):\n",
    "    print(f\"{product}: ${revenue_per_product[i]:,.2f}\")\n",
    "\n",
    "total_revenue = sum(revenue_per_product)\n",
    "average_revenue = total_revenue / len(revenue_per_product)\n",
    "max_revenue = max(revenue_per_product)\n",
    "best_product = products[revenue_per_product.index(max_revenue)]\n",
    "\n",
    "print(f\"\\nTotal Revenue: ${total_revenue:,.2f}\")\n",
    "print(f\"Average per Product: ${average_revenue:,.2f}\")\n",
    "print(f\"Best Performing: {best_product} (${max_revenue:,.2f})\")"
   ]
  },
  {
   "cell_type": "markdown",
   "metadata": {},
   "source": [
    "## 2. Tuples - Immutable Collections"
   ]
  },
  {
   "cell_type": "code",
   "execution_count": null,
   "metadata": {},
   "outputs": [],
   "source": [
    "# Using tuples for fixed data\n",
    "company_info = (\"DataCorp Inc.\", \"Technology\", 2020, \"New York\")\n",
    "product_categories = (\"Hardware\", \"Software\", \"Services\", \"Consulting\")\n",
    "\n",
    "print(\"Company Info:\", company_info)\n",
    "print(\"Product Categories:\", product_categories)\n",
    "print(\"Company Name:\", company_info[0])\n",
    "print(\"Industry:\", company_info[1])\n",
    "\n",
    "# Tuples are immutable - this would cause an error:\n",
    "# company_info[0] = \"New Corp\"  # Uncomment to see error"
   ]
  },
  {
   "cell_type": "code",
   "execution_count": null,
   "metadata": {},
   "outputs": [],
   "source": [
    "# Tuple unpacking for clean code\n",
    "name, industry, year, location = company_info\n",
    "print(f\"Welcome to {name}\")\n",
    "print(f\"Industry: {industry}\")\n",
    "print(f\"Founded: {year}\")\n",
    "print(f\"Location: {location}\")\n",
    "\n",
    "# Multiple return values (simulated)\n",
    "def get_sales_data():\n",
    "    return (150000, 45, 12.5)  # revenue, customers, growth%\n",
    "\n",
    "revenue, customers, growth = get_sales_data()\n",
    "print(f\"\\nSales Data: ${revenue:,} revenue, {customers} customers, {growth}% growth\")"
   ]
  },
  {
   "cell_type": "markdown",
   "metadata": {},
   "source": [
    "## 3. Dictionaries - Key-Value Pairs"
   ]
  },
  {
   "cell_type": "code",
   "execution_count": null,
   "metadata": {},
   "outputs": [],
   "source": [
    "# Business data in dictionaries\n",
    "customer = {\n",
    "    \"customer_id\": \"CUST001\",\n",
    "    \"name\": \"Alice Johnson\",\n",
    "    \"email\": \"alice@email.com\",\n",
    "    \"age\": 34,\n",
    "    \"city\": \"San Francisco\",\n",
    "    \"total_spent\": 2450.75,\n",
    "    \"premium_member\": True\n",
    "}\n",
    "\n",
    "print(\"Customer Data:\")\n",
    "for key, value in customer.items():\n",
    "    print(f\"{key.replace('_', ' ').title()}: {value}\")"
   ]
  },
  {
   "cell_type": "code",
   "execution_count": null,
   "metadata": {},
   "outputs": [],
   "source": [
    "# Dictionary operations\n",
    "print(\"\\n=== CUSTOMER ANALYSIS ===\")\n",
    "print(\"Customer Name:\", customer[\"name\"])\n",
    "print(\"Is Premium Member:\", customer.get(\"premium_member\", \"No\"))\n",
    "\n",
    "# Update customer data\n",
    "customer[\"total_spent\"] += 299.99  # New purchase\n",
    "customer[\"last_purchase\"] = \"2024-01-15\"  # Add new field\n",
    "\n",
    "print(f\"Updated Total Spent: ${customer['total_spent']:.2f}\")\n",
    "print(\"All customer keys:\", list(customer.keys()))"
   ]
  },
  {
   "cell_type": "code",
   "execution_count": null,
   "metadata": {},
   "outputs": [],
   "source": [
    "# Nested dictionaries for complex data\n",
    "business_data = {\n",
    "    \"company\": {\n",
    "        \"name\": \"Tech Solutions Inc\",\n",
    "        \"employees\": 150,\n",
    "        \"revenue\": 5000000\n",
    "    },\n",
    "    \"products\": {\n",
    "        \"software\": [\"Analytics Pro\", \"CRM Enterprise\", \"Security Suite\"],\n",
    "        \"services\": [\"Consulting\", \"Support\", \"Training\"]\n",
    "    },\n",
    "    \"performance\": {\n",
    "        \"q1\": 1200000,\n",
    "        \"q2\": 1350000,\n",
    "        \"q3\": 1450000,\n",
    "        \"q4\": 1000000\n",
    "    }\n",
    "}\n",
    "\n",
    "print(\"Company Name:\", business_data[\"company\"][\"name\"])\n",
    "print(\"Software Products:\", business_data[\"products\"][\"software\"])\n",
    "print(\"Q2 Revenue: $\", business_data[\"performance\"][\"q2\"])"
   ]
  },
  {
   "cell_type": "markdown",
   "metadata": {},
   "source": [
    "## 4. Sets - Unique Collections"
   ]
  },
  {
   "cell_type": "code",
   "execution_count": null,
   "metadata": {},
   "outputs": [],
   "source": [
    "# Using sets for unique data\n",
    "all_cities = {\"New York\", \"San Francisco\", \"Chicago\", \"Boston\", \"Austin\"}\n",
    "east_coast_cities = {\"New York\", \"Boston\", \"Miami\"}\n",
    "west_coast_cities = {\"San Francisco\", \"Los Angeles\", \"Seattle\"}\n",
    "\n",
    "print(\"All Cities:\", all_cities)\n",
    "print(\"East Coast:\", east_coast_cities)\n",
    "print(\"West Coast:\", west_coast_cities)\n",
    "\n",
    "# Set operations\n",
    "print(\"\\n=== GEOGRAPHIC ANALYSIS ===\")\n",
    "print(\"Cities in both:\", all_cities & east_coast_cities)  # Intersection\n",
    "print(\"All unique cities:\", all_cities | west_coast_cities)  # Union\n",
    "print(\"Only in All Cities:\", all_cities - east_coast_cities)  # Difference\n",
    "print(\"Is Chicago in dataset?\", \"Chicago\" in all_cities)"
   ]
  },
  {
   "cell_type": "code",
   "execution_count": null,
   "metadata": {},
   "outputs": [],
   "source": [
    "# Practical set example - Customer segmentation\n",
    "website_visitors = {\"alice@email.com\", \"bob@company.com\", \"charlie@tech.org\"}\n",
    "newsletter_subscribers = {\"bob@company.com\", \"diana@startup.com\", \"eve@business.net\"}\n",
    "premium_customers = {\"alice@email.com\", \"eve@business.net\"}\n",
    "\n",
    "print(\"=== CUSTOMER SEGMENT ANALYSIS ===\")\n",
    "print(\"Visitors who subscribe:\", website_visitors & newsletter_subscribers)\n",
    "print(\"Premium subscribers:\", premium_customers & newsletter_subscribers)\n",
    "print(\"All contacts:\", website_visitors | newsletter_subscribers)\n",
    "print(\"Subscribers not premium:\", newsletter_subscribers - premium_customers)"
   ]
  },
  {
   "cell_type": "markdown",
   "metadata": {},
   "source": [
    "## 5. Comprehensive Business Example"
   ]
  },
  {
   "cell_type": "code",
   "execution_count": null,
   "metadata": {},
   "outputs": [],
   "source": [
    "# Putting it all together - Sales Analysis System\n",
    "\n",
    "# List of sales transactions (each transaction is a dictionary)\n",
    "sales_data = [\n",
    "    {\"product\": \"Laptop\", \"price\": 999.99, \"quantity\": 2, \"region\": \"North\"},\n",
    "    {\"product\": \"Mouse\", \"price\": 25.50, \"quantity\": 10, \"region\": \"South\"},\n",
    "    {\"product\": \"Keyboard\", \"price\": 75.00, \"quantity\": 5, \"region\": \"North\"},\n",
    "    {\"product\": \"Monitor\", \"price\": 299.99, \"quantity\": 3, \"region\": \"East\"},\n",
    "    {\"product\": \"Laptop\", \"price\": 999.99, \"quantity\": 1, \"region\": \"West\"},\n",
    "    {\"product\": \"Headphones\", \"price\": 149.99, \"quantity\": 8, \"region\": \"South\"},\n",
    "]\n",
    "\n",
    "# Analysis using different data structures\n",
    "total_revenue = sum([sale[\"price\"] * sale[\"quantity\"] for sale in sales_data])\n",
    "regions = set([sale[\"region\"] for sale in sales_data])\n",
    "products_sold = [sale[\"product\"] for sale in sales_data]\n",
    "product_counts = {product: products_sold.count(product) for product in set(products_sold)}\n",
    "\n",
    "print(\"=== SALES ANALYSIS REPORT ===\")\n",
    "print(f\"Total Revenue: ${total_revenue:,.2f}\")\n",
    "print(f\"Regions with sales: {regions}\")\n",
    "print(\"Products sold:\", product_counts)\n",
    "\n",
    "# Regional analysis using dictionary\n",
    "regional_sales = {}\n",
    "for sale in sales_data:\n",
    "    region = sale[\"region\"]\n",
    "    amount = sale[\"price\"] * sale[\"quantity\"]\n",
    "    regional_sales[region] = regional_sales.get(region, 0) + amount\n",
    "\n",
    "print(\"\\nRegional Sales:\")\n",
    "for region, sales in regional_sales.items():\n",
    "    print(f\"{region}: ${sales:,.2f}\")"
   ]
  },
  {
   "cell_type": "markdown",
   "metadata": {},
   "source": [
    "## Practice Exercises"
   ]
  },
  {
   "cell_type": "code",
   "execution_count": null,
   "metadata": {},
   "outputs": [],
   "source": [
    "# Exercise 1: Employee Management System\n",
    "employees = [\n",
    "    {\"name\": \"Alice\", \"department\": \"Engineering\", \"salary\": 85000},\n",
    "    {\"name\": \"Bob\", \"department\": \"Marketing\", \"salary\": 65000},\n",
    "    {\"name\": \"Charlie\", \"department\": \"Engineering\", \"salary\": 95000},\n",
    "    {\"name\": \"Diana\", \"department\": \"Sales\", \"salary\": 75000},\n",
    "]\n",
    "\n",
    "# Your task: Calculate average salary by department\n",
    "department_salaries = {}\n",
    "department_counts = {}\n",
    "\n",
    "for emp in employees:\n",
    "    dept = emp[\"department\"]\n",
    "    salary = emp[\"salary\"]\n",
    "    department_salaries[dept] = department_salaries.get(dept, 0) + salary\n",
    "    department_counts[dept] = department_counts.get(dept, 0) + 1\n",
    "\n",
    "print(\"Average Salaries by Department:\")\n",
    "for dept in department_salaries:\n",
    "    avg_salary = department_salaries[dept] / department_counts[dept]\n",
    "    print(f\"{dept}: ${avg_salary:,.2f}\")"
   ]
  },
  {
   "cell_type": "code",
   "execution_count": null,
   "metadata": {},
   "outputs": [],
   "source": [
    "# Exercise 2: Inventory Management\n",
    "inventory = [\"laptop\", \"mouse\", \"keyboard\", \"monitor\", \"laptop\", \"mouse\"]\n",
    "\n",
    "# Your task: Find unique products and count of each\n",
    "unique_products = set(inventory)\n",
    "product_counts = {}\n",
    "\n",
    "for product in inventory:\n",
    "    product_counts[product] = product_counts.get(product, 0) + 1\n",
    "\n",
    "print(\"Unique Products:\", unique_products)\n",
    "print(\"Product Counts:\", product_counts)"
   ]
  },
  {
   "cell_type": "markdown",
   "metadata": {},
   "source": [
    "## Key Takeaways\n",
    "- **Lists**: Ordered, mutable collections - perfect for sequences of items\n",
    "- **Tuples**: Immutable collections - use for fixed data that shouldn't change\n",
    "- **Dictionaries**: Key-value pairs - ideal for structured data with labels\n",
    "- **Sets**: Unique, unordered collections - great for membership testing and operations\n",
    "- **Choose the right structure** for your data and operations needed"
   ]
  }
 ],
 "metadata": {
  "kernelspec": {
   "display_name": "Python 3",
   "language": "python",
   "name": "python3"
  }
 }
}