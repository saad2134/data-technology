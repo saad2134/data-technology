{
 "cells": [
  {
   "cell_type": "markdown",
   "metadata": {},
   "source": [
    "# Python Syntax Fundamentals\n",
    "\n",
    "## Learning Objectives\n",
    "- Understand basic Python syntax and rules\n",
    "- Learn about variables and data types\n",
    "- Master basic operations and input/output\n",
    "- Understand conditional statements and loops\n",
    "\n",
    "## Data Sources\n",
    "- This notebook uses synthetic data for learning purposes"
   ]
  },
  {
   "cell_type": "markdown",
   "metadata": {},
   "source": [
    "## 1. Variables and Basic Operations"
   ]
  },
  {
   "cell_type": "code",
   "execution_count": null,
   "metadata": {},
   "outputs": [],
   "source": [
    "# Basic variable assignment\n",
    "company_name = \"DataCorp Inc.\"\n",
    "year_founded = 2020\n",
    "monthly_revenue = 50000.75\n",
    "is_profitable = True\n",
    "\n",
    "print(\"Company:\", company_name)\n",
    "print(\"Year Founded:\", year_founded)\n",
    "print(\"Monthly Revenue: $\", monthly_revenue)\n",
    "print(\"Is Profitable:\", is_profitable)"
   ]
  },
  {
   "cell_type": "code",
   "execution_count": null,
   "metadata": {},
   "outputs": [],
   "source": [
    "# Basic arithmetic operations\n",
    "q1_sales = 150000\n",
    "q2_sales = 180000\n",
    "q3_sales = 220000\n",
    "q4_sales = 195000\n",
    "\n",
    "total_sales = q1_sales + q2_sales + q3_sales + q4_sales\n",
    "average_sales = total_sales / 4\n",
    "sales_growth = ((q4_sales - q1_sales) / q1_sales) * 100\n",
    "\n",
    "print(f\"Total Annual Sales: ${total_sales:,}\")\n",
    "print(f\"Average Quarterly Sales: ${average_sales:,.2f}\")\n",
    "print(f\"Sales Growth from Q1 to Q4: {sales_growth:.1f}%\")"
   ]
  },
  {
   "cell_type": "markdown",
   "metadata": {},
   "source": [
    "## 2. String Operations"
   ]
  },
  {
   "cell_type": "code",
   "execution_count": null,
   "metadata": {},
   "outputs": [],
   "source": [
    "# String manipulation\n",
    "product_name = \" data analytics software \"\n",
    "version = \"pro\"\n",
    "\n",
    "# String methods\n",
    "clean_product = product_name.strip().title()\n",
    "full_product_name = f\"{clean_product} {version.upper()}\"\n",
    "description = \"The best tool for data analysis\"\n",
    "\n",
    "print(\"Original:\", product_name)\n",
    "print(\"Cleaned:\", clean_product)\n",
    "print(\"Full Name:\", full_product_name)\n",
    "print(\"Description Length:\", len(description))\n",
    "print(\"Contains 'data':\", \"data\" in description.lower())"
   ]
  },
  {
   "cell_type": "markdown",
   "metadata": {},
   "source": [
    "## 3. Conditional Statements"
   ]
  },
  {
   "cell_type": "code",
   "execution_count": null,
   "metadata": {},
   "outputs": [],
   "source": [
    "# Business logic with conditionals\n",
    "monthly_revenue = 75000\n",
    "operating_costs = 45000\n",
    "profit = monthly_revenue - operating_costs\n",
    "profit_margin = (profit / monthly_revenue) * 100\n",
    "\n",
    "print(f\"Monthly Profit: ${profit:,}\")\n",
    "print(f\"Profit Margin: {profit_margin:.1f}%\")\n",
    "\n",
    "# Conditional analysis\n",
    "if profit_margin > 30:\n",
    "    performance = \"Excellent\"\n",
    "    recommendation = \"Consider expansion\"\n",
    "elif profit_margin > 20:\n",
    "    performance = \"Good\"\n",
    "    recommendation = \"Maintain current strategy\"\n",
    "elif profit_margin > 10:\n",
    "    performance = \"Average\"\n",
    "    recommendation = \"Review costs\"\n",
    "else:\n",
    "    performance = \"Poor\"\n",
    "    recommendation = \"Immediate action needed\"\n",
    "\n",
    "print(f\"Performance: {performance}\")\n",
    "print(f\"Recommendation: {recommendation}\")"
   ]
  },
  {
   "cell_type": "markdown",
   "metadata": {},
   "source": [
    "## 4. Loops in Business Context"
   ]
  },
  {
   "cell_type": "code",
   "execution_count": null,
   "metadata": {},
   "outputs": [],
   "source": [
    "# For loop example - Monthly sales analysis\n",
    "months = [\"January\", \"February\", \"March\", \"April\", \"May\", \"June\"]\n",
    "monthly_sales = [52000, 48000, 61000, 55000, 72000, 68000]\n",
    "sales_target = 60000\n",
    "\n",
    "print(\"=== MONTHLY SALES PERFORMANCE ===\")\n",
    "for i, month in enumerate(months):\n",
    "    sales = monthly_sales[i]\n",
    "    status = \"Above Target\" if sales >= sales_target else \"Below Target\"\n",
    "    print(f\"{month}: ${sales:,} - {status}\")"
   ]
  },
  {
   "cell_type": "code",
   "execution_count": null,
   "metadata": {},
   "outputs": [],
   "source": [
    "# While loop example - Customer acquisition simulation\n",
    "current_customers = 150\n",
    "target_customers = 300\n",
    "month = 0\n",
    "growth_rate = 0.10  # 10% monthly growth\n",
    "\n",
    "print(\"\\n=== CUSTOMER GROWTH PROJECTION ===\")\n",
    "while current_customers < target_customers:\n",
    "    month += 1\n",
    "    new_customers = int(current_customers * growth_rate)\n",
    "    current_customers += new_customers\n",
    "    print(f\"Month {month}: {current_customers} customers (+{new_customers})\")\n",
    "    \n",
    "    if month >= 24:  # Safety break\n",
    "        print(\"Projection extended beyond 2 years\")\n",
    "        break\n",
    "\n",
    "print(f\"\\nTarget reached in {month} months!\")"
   ]
  },
  {
   "cell_type": "markdown",
   "metadata": {},
   "source": [
    "## 5. Input and Output Operations"
   ]
  },
  {
   "cell_type": "code",
   "execution_count": null,
   "metadata": {},
   "outputs": [],
   "source": [
    "# Simple data collection system\n",
    "print(\"=== BUSINESS DATA COLLECTION ===\")\n",
    "\n",
    "# Simulated user input (in real scenario, use input() function)\n",
    "company = \"Tech Solutions Ltd\"  # input(\"Enter company name: \")\n",
    "employees = 45  # int(input(\"Enter number of employees: \"))\n",
    "industry = \"Technology\"  # input(\"Enter industry: \")\n",
    "\n",
    "# Data processing\n",
    "company_summary = f\"\"\"\n",
    "BUSINESS SUMMARY REPORT\n",
    \"\"\"\n",
    "Company: {company}\n",
    "Industry: {industry}\n",
    "Employees: {employees}\n",
    "Size Category: {'Small' if employees < 50 else 'Medium' if employees < 250 else 'Large'}\n",
    "\"\"\"\n",
    "\n",
    "print(company_summary)"
   ]
  },
  {
   "cell_type": "markdown",
   "metadata": {},
   "source": [
    "## Practice Exercises"
   ]
  },
  {
   "cell_type": "code",
   "execution_count": null,
   "metadata": {},
   "outputs": [],
   "source": [
    "# Exercise 1: Calculate employee productivity\n",
    "total_revenue = 1000000\n",
    "total_employees = 25\n",
    "# Your code here - calculate revenue per employee\n",
    "revenue_per_employee = total_revenue / total_employees\n",
    "print(f\"Revenue per employee: ${revenue_per_employee:,.2f}\")"
   ]
  },
  {
   "cell_type": "code",
   "execution_count": null,
   "metadata": {},
   "outputs": [],
   "source": [
    "# Exercise 2: Marketing campaign analysis\n",
    "campaign_cost = 5000\n",
    "leads_generated = 120\n",
    "conversions = 24\n",
    "# Your code here - calculate cost per lead and conversion rate\n",
    "cost_per_lead = campaign_cost / leads_generated\n",
    "conversion_rate = (conversions / leads_generated) * 100\n",
    "print(f\"Cost per lead: ${cost_per_lead:.2f}\")\n",
    "print(f\"Conversion rate: {conversion_rate:.1f}%\")"
   ]
  },
  {
   "cell_type": "markdown",
   "metadata": {},
   "source": [
    "## Key Takeaways\n",
    "- Python uses simple, readable syntax\n",
    "- Variables store different data types (strings, numbers, booleans)\n",
    "- Conditionals (if/elif/else) enable decision-making\n",
    "- Loops (for/while) automate repetitive tasks\n",
    "- String methods help clean and manipulate text data"
   ]
  }
 ],
 "metadata": {
  "kernelspec": {
   "display_name": "Python 3",
   "language": "python",
   "name": "python3"
  }
 }
}