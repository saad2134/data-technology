{
 "cells": [
  {
   "cell_type": "code",
   "execution_count": 1,
   "id": "208bbd20",
   "metadata": {
    "_cell_guid": "6db9baff-c40b-45b0-a8e7-38c92390b175",
    "_uuid": "1c52b07b-30d1-432e-84c3-6605811e01ef",
    "collapsed": false,
    "execution": {
     "iopub.execute_input": "2025-03-13T12:11:17.365956Z",
     "iopub.status.busy": "2025-03-13T12:11:17.365454Z",
     "iopub.status.idle": "2025-03-13T12:11:21.302652Z",
     "shell.execute_reply": "2025-03-13T12:11:21.301552Z"
    },
    "jupyter": {
     "outputs_hidden": false
    },
    "papermill": {
     "duration": 3.944369,
     "end_time": "2025-03-13T12:11:21.304676",
     "exception": false,
     "start_time": "2025-03-13T12:11:17.360307",
     "status": "completed"
    },
    "tags": []
   },
   "outputs": [],
   "source": [
    "import pandas as pd\n",
    "import kagglehub\n",
    "import os\n",
    "import numpy as np\n",
    "import matplotlib.pyplot as plt\n",
    "import seaborn as sns\n",
    "from sklearn.model_selection import train_test_split\n",
    "from sklearn.preprocessing import StandardScaler\n",
    "from sklearn.ensemble import RandomForestClassifier\n",
    "from sklearn.metrics import accuracy_score, classification_report"
   ]
  },
  {
   "cell_type": "code",
   "execution_count": 2,
   "id": "1fbc6210",
   "metadata": {
    "_cell_guid": "fb2b4a6a-4761-44cb-a1cd-05383fd1b673",
    "_uuid": "a0a809a5-cad3-42b5-8fdd-5559d747e124",
    "collapsed": false,
    "execution": {
     "iopub.execute_input": "2025-03-13T12:11:21.313508Z",
     "iopub.status.busy": "2025-03-13T12:11:21.312973Z",
     "iopub.status.idle": "2025-03-13T12:11:22.160129Z",
     "shell.execute_reply": "2025-03-13T12:11:22.159069Z"
    },
    "jupyter": {
     "outputs_hidden": false
    },
    "papermill": {
     "duration": 0.853486,
     "end_time": "2025-03-13T12:11:22.162063",
     "exception": false,
     "start_time": "2025-03-13T12:11:21.308577",
     "status": "completed"
    },
    "tags": []
   },
   "outputs": [],
   "source": [
    "# Download the dataset (use only the dataset name, without file paths)\n",
    "dataset_path = kagglehub.dataset_download(\"saad2134/basic-data-science-python-dataset\")\n",
    "\n",
    "# Construct the full file path\n",
    "csv_file_path = os.path.join(dataset_path, \"data.csv\")\n",
    "\n",
    "# Load dataset\n",
    "df = pd.read_csv(csv_file_path)"
   ]
  },
  {
   "cell_type": "code",
   "execution_count": 3,
   "id": "ac94ca36",
   "metadata": {
    "_cell_guid": "d24d1158-2c6b-4798-8729-99be849fcecb",
    "_uuid": "322c5978-f893-466a-b0ff-b6de3a4def96",
    "collapsed": false,
    "execution": {
     "iopub.execute_input": "2025-03-13T12:11:22.169964Z",
     "iopub.status.busy": "2025-03-13T12:11:22.169569Z",
     "iopub.status.idle": "2025-03-13T12:11:22.217517Z",
     "shell.execute_reply": "2025-03-13T12:11:22.216392Z"
    },
    "jupyter": {
     "outputs_hidden": false
    },
    "papermill": {
     "duration": 0.054109,
     "end_time": "2025-03-13T12:11:22.219600",
     "exception": false,
     "start_time": "2025-03-13T12:11:22.165491",
     "status": "completed"
    },
    "tags": []
   },
   "outputs": [
    {
     "name": "stdout",
     "output_type": "stream",
     "text": [
      "<class 'pandas.core.frame.DataFrame'>\n",
      "RangeIndex: 8 entries, 0 to 7\n",
      "Data columns (total 3 columns):\n",
      " #   Column     Non-Null Count  Dtype\n",
      "---  ------     --------------  -----\n",
      " 0   Age        8 non-null      int64\n",
      " 1   Salary     8 non-null      int64\n",
      " 2   Purchased  8 non-null      int64\n",
      "dtypes: int64(3)\n",
      "memory usage: 320.0 bytes\n",
      "None\n"
     ]
    },
    {
     "data": {
      "text/html": [
       "<div>\n",
       "<style scoped>\n",
       "    .dataframe tbody tr th:only-of-type {\n",
       "        vertical-align: middle;\n",
       "    }\n",
       "\n",
       "    .dataframe tbody tr th {\n",
       "        vertical-align: top;\n",
       "    }\n",
       "\n",
       "    .dataframe thead th {\n",
       "        text-align: right;\n",
       "    }\n",
       "</style>\n",
       "<table border=\"1\" class=\"dataframe\">\n",
       "  <thead>\n",
       "    <tr style=\"text-align: right;\">\n",
       "      <th></th>\n",
       "      <th>Age</th>\n",
       "      <th>Salary</th>\n",
       "      <th>Purchased</th>\n",
       "    </tr>\n",
       "  </thead>\n",
       "  <tbody>\n",
       "    <tr>\n",
       "      <th>0</th>\n",
       "      <td>25</td>\n",
       "      <td>50000</td>\n",
       "      <td>0</td>\n",
       "    </tr>\n",
       "    <tr>\n",
       "      <th>1</th>\n",
       "      <td>30</td>\n",
       "      <td>60000</td>\n",
       "      <td>1</td>\n",
       "    </tr>\n",
       "    <tr>\n",
       "      <th>2</th>\n",
       "      <td>35</td>\n",
       "      <td>75000</td>\n",
       "      <td>1</td>\n",
       "    </tr>\n",
       "    <tr>\n",
       "      <th>3</th>\n",
       "      <td>40</td>\n",
       "      <td>80000</td>\n",
       "      <td>0</td>\n",
       "    </tr>\n",
       "    <tr>\n",
       "      <th>4</th>\n",
       "      <td>45</td>\n",
       "      <td>85000</td>\n",
       "      <td>1</td>\n",
       "    </tr>\n",
       "  </tbody>\n",
       "</table>\n",
       "</div>"
      ],
      "text/plain": [
       "   Age  Salary  Purchased\n",
       "0   25   50000          0\n",
       "1   30   60000          1\n",
       "2   35   75000          1\n",
       "3   40   80000          0\n",
       "4   45   85000          1"
      ]
     },
     "metadata": {},
     "output_type": "display_data"
    }
   ],
   "source": [
    "# Display basic info and first few rows\n",
    "print(df.info())\n",
    "display(df.head())"
   ]
  },
  {
   "cell_type": "code",
   "execution_count": 4,
   "id": "8236d2ce",
   "metadata": {
    "_cell_guid": "831a85c1-806b-4519-8cc6-b91b0804ab70",
    "_uuid": "3601c107-07f1-40b2-a316-b02ead671c44",
    "collapsed": false,
    "execution": {
     "iopub.execute_input": "2025-03-13T12:11:22.228081Z",
     "iopub.status.busy": "2025-03-13T12:11:22.227685Z",
     "iopub.status.idle": "2025-03-13T12:11:22.234406Z",
     "shell.execute_reply": "2025-03-13T12:11:22.233446Z"
    },
    "jupyter": {
     "outputs_hidden": false
    },
    "papermill": {
     "duration": 0.012721,
     "end_time": "2025-03-13T12:11:22.236066",
     "exception": false,
     "start_time": "2025-03-13T12:11:22.223345",
     "status": "completed"
    },
    "tags": []
   },
   "outputs": [],
   "source": [
    "# Data Preprocessing\n",
    "# Handling missing values\n",
    "df.fillna(df.mean(), inplace=True)"
   ]
  },
  {
   "cell_type": "code",
   "execution_count": 5,
   "id": "e8ab2745",
   "metadata": {
    "_cell_guid": "fba6ae60-f925-4105-bd10-21ad98ab510d",
    "_uuid": "cb546e06-893a-4e13-8832-21dc7526522a",
    "collapsed": false,
    "execution": {
     "iopub.execute_input": "2025-03-13T12:11:22.244526Z",
     "iopub.status.busy": "2025-03-13T12:11:22.244156Z",
     "iopub.status.idle": "2025-03-13T12:11:22.661367Z",
     "shell.execute_reply": "2025-03-13T12:11:22.660242Z"
    },
    "jupyter": {
     "outputs_hidden": false
    },
    "papermill": {
     "duration": 0.423381,
     "end_time": "2025-03-13T12:11:22.663207",
     "exception": false,
     "start_time": "2025-03-13T12:11:22.239826",
     "status": "completed"
    },
    "tags": []
   },
   "outputs": [
    {
     "data": {
      "image/png": "[encoded data removed]",
      "text/plain": [
       "<Figure size 1000x500 with 2 Axes>"
      ]
     },
     "metadata": {},
     "output_type": "display_data"
    }
   ],
   "source": [
    "# Exploratory Data Analysis (EDA)\n",
    "plt.figure(figsize=(10, 5))\n",
    "sns.heatmap(df.corr(), annot=True, cmap='coolwarm')\n",
    "plt.show()"
   ]
  },
  {
   "cell_type": "code",
   "execution_count": 6,
   "id": "cac60cfa",
   "metadata": {
    "_cell_guid": "e67551a6-2734-4b64-84a0-152bc65d49cc",
    "_uuid": "641081fe-f3ab-46e8-b104-2125e606abc5",
    "collapsed": false,
    "execution": {
     "iopub.execute_input": "2025-03-13T12:11:22.673648Z",
     "iopub.status.busy": "2025-03-13T12:11:22.673261Z",
     "iopub.status.idle": "2025-03-13T12:11:22.680737Z",
     "shell.execute_reply": "2025-03-13T12:11:22.679753Z"
    },
    "jupyter": {
     "outputs_hidden": false
    },
    "papermill": {
     "duration": 0.014709,
     "end_time": "2025-03-13T12:11:22.682361",
     "exception": false,
     "start_time": "2025-03-13T12:11:22.667652",
     "status": "completed"
    },
    "tags": []
   },
   "outputs": [],
   "source": [
    "# Splitting data into train and test\n",
    "X = df.drop(\"Purchased\", axis=1)\n",
    "y = df[\"Purchased\"]\n",
    "X_train, X_test, y_train, y_test = train_test_split(X, y, test_size=0.2, random_state=42)"
   ]
  },
  {
   "cell_type": "code",
   "execution_count": 7,
   "id": "0a0807e4",
   "metadata": {
    "_cell_guid": "48f78fc6-538d-454f-88c0-33fe77bf9e71",
    "_uuid": "b33bcadc-91ee-4dcf-99de-af9fc581edea",
    "collapsed": false,
    "execution": {
     "iopub.execute_input": "2025-03-13T12:11:22.691794Z",
     "iopub.status.busy": "2025-03-13T12:11:22.691434Z",
     "iopub.status.idle": "2025-03-13T12:11:22.700907Z",
     "shell.execute_reply": "2025-03-13T12:11:22.699879Z"
    },
    "jupyter": {
     "outputs_hidden": false
    },
    "papermill": {
     "duration": 0.016206,
     "end_time": "2025-03-13T12:11:22.702738",
     "exception": false,
     "start_time": "2025-03-13T12:11:22.686532",
     "status": "completed"
    },
    "tags": []
   },
   "outputs": [],
   "source": [
    "# Feature Scaling\n",
    "scaler = StandardScaler()\n",
    "X_train = scaler.fit_transform(X_train)\n",
    "X_test = scaler.transform(X_test)"
   ]
  },
  {
   "cell_type": "code",
   "execution_count": 8,
   "id": "c502fa74",
   "metadata": {
    "_cell_guid": "d8a02d18-b8f1-4717-a282-ee932a0a437a",
    "_uuid": "511e3476-c6d3-4da7-848e-ed6119ff1f1f",
    "collapsed": false,
    "execution": {
     "iopub.execute_input": "2025-03-13T12:11:22.712205Z",
     "iopub.status.busy": "2025-03-13T12:11:22.711780Z",
     "iopub.status.idle": "2025-03-13T12:11:22.871059Z",
     "shell.execute_reply": "2025-03-13T12:11:22.869904Z"
    },
    "jupyter": {
     "outputs_hidden": false
    },
    "papermill": {
     "duration": 0.166121,
     "end_time": "2025-03-13T12:11:22.873030",
     "exception": false,
     "start_time": "2025-03-13T12:11:22.706909",
     "status": "completed"
    },
    "tags": []
   },
   "outputs": [
    {
     "data": {
      "text/html": [
       "<style>#sk-container-id-1 {color: black;background-color: white;}#sk-container-id-1 pre{padding: 0;}#sk-container-id-1 div.sk-toggleable {background-color: white;}#sk-container-id-1 label.sk-toggleable__label {cursor: pointer;display: block;width: 100%;margin-bottom: 0;padding: 0.3em;box-sizing: border-box;text-align: center;}#sk-container-id-1 label.sk-toggleable__label-arrow:before {content: \"▸\";float: left;margin-right: 0.25em;color: #696969;}#sk-container-id-1 label.sk-toggleable__label-arrow:hover:before {color: black;}#sk-container-id-1 div.sk-estimator:hover label.sk-toggleable__label-arrow:before {color: black;}#sk-container-id-1 div.sk-toggleable__content {max-height: 0;max-width: 0;overflow: hidden;text-align: left;background-color: #f0f8ff;}#sk-container-id-1 div.sk-toggleable__content pre {margin: 0.2em;color: black;border-radius: 0.25em;background-color: #f0f8ff;}#sk-container-id-1 input.sk-toggleable__control:checked~div.sk-toggleable__content {max-height: 200px;max-width: 100%;overflow: auto;}#sk-container-id-1 input.sk-toggleable__control:checked~label.sk-toggleable__label-arrow:before {content: \"▾\";}#sk-container-id-1 div.sk-estimator input.sk-toggleable__control:checked~label.sk-toggleable__label {background-color: #d4ebff;}#sk-container-id-1 div.sk-label input.sk-toggleable__control:checked~label.sk-toggleable__label {background-color: #d4ebff;}#sk-container-id-1 input.sk-hidden--visually {border: 0;clip: rect(1px 1px 1px 1px);clip: rect(1px, 1px, 1px, 1px);height: 1px;margin: -1px;overflow: hidden;padding: 0;position: absolute;width: 1px;}#sk-container-id-1 div.sk-estimator {font-family: monospace;background-color: #f0f8ff;border: 1px dotted black;border-radius: 0.25em;box-sizing: border-box;margin-bottom: 0.5em;}#sk-container-id-1 div.sk-estimator:hover {background-color: #d4ebff;}#sk-container-id-1 div.sk-parallel-item::after {content: \"\";width: 100%;border-bottom: 1px solid gray;flex-grow: 1;}#sk-container-id-1 div.sk-label:hover label.sk-toggleable__label {background-color: #d4ebff;}#sk-container-id-1 div.sk-serial::before {content: \"\";position: absolute;border-left: 1px solid gray;box-sizing: border-box;top: 0;bottom: 0;left: 50%;z-index: 0;}#sk-container-id-1 div.sk-serial {display: flex;flex-direction: column;align-items: center;background-color: white;padding-right: 0.2em;padding-left: 0.2em;position: relative;}#sk-container-id-1 div.sk-item {position: relative;z-index: 1;}#sk-container-id-1 div.sk-parallel {display: flex;align-items: stretch;justify-content: center;background-color: white;position: relative;}#sk-container-id-1 div.sk-item::before, #sk-container-id-1 div.sk-parallel-item::before {content: \"\";position: absolute;border-left: 1px solid gray;box-sizing: border-box;top: 0;bottom: 0;left: 50%;z-index: -1;}#sk-container-id-1 div.sk-parallel-item {display: flex;flex-direction: column;z-index: 1;position: relative;background-color: white;}#sk-container-id-1 div.sk-parallel-item:first-child::after {align-self: flex-end;width: 50%;}#sk-container-id-1 div.sk-parallel-item:last-child::after {align-self: flex-start;width: 50%;}#sk-container-id-1 div.sk-parallel-item:only-child::after {width: 0;}#sk-container-id-1 div.sk-dashed-wrapped {border: 1px dashed gray;margin: 0 0.4em 0.5em 0.4em;box-sizing: border-box;padding-bottom: 0.4em;background-color: white;}#sk-container-id-1 div.sk-label label {font-family: monospace;font-weight: bold;display: inline-block;line-height: 1.2em;}#sk-container-id-1 div.sk-label-container {text-align: center;}#sk-container-id-1 div.sk-container {/* jupyter's `normalize.less` sets `[hidden] { display: none; }` but bootstrap.min.css set `[hidden] { display: none !important; }` so we also need the `!important` here to be able to override the default hidden behavior on the sphinx rendered scikit-learn.org. See: https://github.com/scikit-learn/scikit-learn/issues/21755 */display: inline-block !important;position: relative;}#sk-container-id-1 div.sk-text-repr-fallback {display: none;}</style><div id=\"sk-container-id-1\" class=\"sk-top-container\"><div class=\"sk-text-repr-fallback\"><pre>RandomForestClassifier(random_state=42)</pre><b>In a Jupyter environment, please rerun this cell to show the HTML representation or trust the notebook. <br />On GitHub, the HTML representation is unable to render, please try loading this page with nbviewer.org.</b></div><div class=\"sk-container\" hidden><div class=\"sk-item\"><div class=\"sk-estimator sk-toggleable\"><input class=\"sk-toggleable__control sk-hidden--visually\" id=\"sk-estimator-id-1\" type=\"checkbox\" checked><label for=\"sk-estimator-id-1\" class=\"sk-toggleable__label sk-toggleable__label-arrow\">RandomForestClassifier</label><div class=\"sk-toggleable__content\"><pre>RandomForestClassifier(random_state=42)</pre></div></div></div></div></div>"
      ],
      "text/plain": [
       "RandomForestClassifier(random_state=42)"
      ]
     },
     "execution_count": 8,
     "metadata": {},
     "output_type": "execute_result"
    }
   ],
   "source": [
    "# Model Training\n",
    "model = RandomForestClassifier(n_estimators=100, random_state=42)\n",
    "model.fit(X_train, y_train)"
   ]
  },
  {
   "cell_type": "code",
   "execution_count": 9,
   "id": "fe6da5da",
   "metadata": {
    "_cell_guid": "b30fc323-a9e4-4b57-93c7-41f39962d98b",
    "_uuid": "a5cab11e-d3ab-4380-90f8-86a9626b731b",
    "collapsed": false,
    "execution": {
     "iopub.execute_input": "2025-03-13T12:11:22.883101Z",
     "iopub.status.busy": "2025-03-13T12:11:22.882704Z",
     "iopub.status.idle": "2025-03-13T12:11:22.893335Z",
     "shell.execute_reply": "2025-03-13T12:11:22.892263Z"
    },
    "jupyter": {
     "outputs_hidden": false
    },
    "papermill": {
     "duration": 0.017502,
     "end_time": "2025-03-13T12:11:22.895047",
     "exception": false,
     "start_time": "2025-03-13T12:11:22.877545",
     "status": "completed"
    },
    "tags": []
   },
   "outputs": [],
   "source": [
    "# Predictions\n",
    "y_pred = model.predict(X_test)"
   ]
  },
  {
   "cell_type": "code",
   "execution_count": 10,
   "id": "3abb1ed6",
   "metadata": {
    "_cell_guid": "9ee8a748-5a0b-4dd4-bb85-b1ab3dda7c8f",
    "_uuid": "b9d98b6d-87d1-45eb-95c8-0aaf3b685c39",
    "collapsed": false,
    "execution": {
     "iopub.execute_input": "2025-03-13T12:11:22.905164Z",
     "iopub.status.busy": "2025-03-13T12:11:22.904751Z",
     "iopub.status.idle": "2025-03-13T12:11:22.921443Z",
     "shell.execute_reply": "2025-03-13T12:11:22.919863Z"
    },
    "jupyter": {
     "outputs_hidden": false
    },
    "papermill": {
     "duration": 0.024083,
     "end_time": "2025-03-13T12:11:22.923415",
     "exception": false,
     "start_time": "2025-03-13T12:11:22.899332",
     "status": "completed"
    },
    "tags": []
   },
   "outputs": [
    {
     "name": "stdout",
     "output_type": "stream",
     "text": [
      "Accuracy: 0.00\n",
      "              precision    recall  f1-score   support\n",
      "\n",
      "           0       0.00      0.00      0.00       1.0\n",
      "           1       0.00      0.00      0.00       1.0\n",
      "\n",
      "    accuracy                           0.00       2.0\n",
      "   macro avg       0.00      0.00      0.00       2.0\n",
      "weighted avg       0.00      0.00      0.00       2.0\n",
      "\n"
     ]
    }
   ],
   "source": [
    "# Model Evaluation\n",
    "accuracy = accuracy_score(y_test, y_pred)\n",
    "print(f\"Accuracy: {accuracy:.2f}\")\n",
    "print(classification_report(y_test, y_pred))"
   ]
  }
 ],
 "metadata": {
  "kaggle": {
   "accelerator": "none",
   "dataSources": [
    {
     "datasetId": 6860746,
     "sourceId": 11018470,
     "sourceType": "datasetVersion"
    }
   ],
   "dockerImageVersionId": 30918,
   "isGpuEnabled": false,
   "isInternetEnabled": true,
   "language": "python",
   "sourceType": "notebook"
  },
  "kernelspec": {
   "display_name": "Python 3",
   "language": "python",
   "name": "python3"
  },
  "language_info": {
   "codemirror_mode": {
    "name": "ipython",
    "version": 3
   },
   "file_extension": ".py",
   "mimetype": "text/x-python",
   "name": "python",
   "nbconvert_exporter": "python",
   "pygments_lexer": "ipython3",
   "version": "3.10.12"
  },
  "papermill": {
   "default_parameters": {},
   "duration": 9.288241,
   "end_time": "2025-03-13T12:11:23.749453",
   "environment_variables": {},
   "exception": null,
   "input_path": "__notebook__.ipynb",
   "output_path": "__notebook__.ipynb",
   "parameters": {},
   "start_time": "2025-03-13T12:11:14.461212",
   "version": "2.6.0"
  }
 },
 "nbformat": 4,
 "nbformat_minor": 5
}
